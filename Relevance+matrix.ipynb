{
 "cells": [
  {
   "cell_type": "code",
   "execution_count": 1,
   "metadata": {
    "collapsed": true
   },
   "outputs": [],
   "source": [
    "import pandas as pd\n",
    "import east"
   ]
  },
  {
   "cell_type": "code",
   "execution_count": 8,
   "metadata": {
    "collapsed": true
   },
   "outputs": [],
   "source": [
    "from east.asts import base\n",
    "import re"
   ]
  },
  {
   "cell_type": "code",
   "execution_count": 21,
   "metadata": {
    "collapsed": true
   },
   "outputs": [],
   "source": [
    "data = pd.read_csv('./Downloads/cw_5.csv', sep=';', encoding='cp1251')"
   ]
  },
  {
   "cell_type": "code",
   "execution_count": 22,
   "metadata": {
    "collapsed": true
   },
   "outputs": [],
   "source": [
    "data.text = data.text.str.replace('\"Ранее вы обращались по вопросу: \"', '').str.replace(',Ответ специалиста:','')\\\n",
    "            .str.replace('Мы пришлём вам уведомление и обязательно решим ваш вопрос.', '')\\\n",
    "            .str.replace('Я передал вопрос сотруднику службы поддержки.', '')\\\n",
    "            .str.replace('Извините, сейчас обращений много, поэтому он вернется с ответом в течение', '')        "
   ]
  },
  {
   "cell_type": "code",
   "execution_count": 23,
   "metadata": {},
   "outputs": [],
   "source": [
    "data = data.groupby(['ticketid', 'Th_new'])['text'].apply(lambda x: '. '.join(x)).reset_index()"
   ]
  },
  {
   "cell_type": "code",
   "execution_count": 28,
   "metadata": {},
   "outputs": [],
   "source": [
    "data.Th_new = data.Th_new.str.replace('Озон аннулировал товар', 'Аннуляция заказа')"
   ]
  },
  {
   "cell_type": "code",
   "execution_count": 29,
   "metadata": {},
   "outputs": [
    {
     "data": {
      "text/plain": [
       "Th_new\n",
       "Акция не заведена / не смогли найти в системе                         284\n",
       "Аннуляция заказа                                                     3409\n",
       "Деньги начислены на ПС                                                 75\n",
       "Жалоба на минимальную стоимость заказа                                 48\n",
       "Не могу оплатить заказ                                                282\n",
       "Не смог вернуть товар / нарушен срок забора                            88\n",
       "Не сработала акция (скидка / промокод / баллы) / Премиум подписка     328\n",
       "Нет оплаты при получении / Ограничение по постоплате                  162\n",
       "Ошибочно / не начислены деньги (баллы)                                129\n",
       "Просьба отписать от рекламных рассылок                                195\n",
       "Name: ticketid, dtype: int64"
      ]
     },
     "execution_count": 29,
     "metadata": {},
     "output_type": "execute_result"
    }
   ],
   "source": [
    "data.groupby(['Th_new'])['ticketid'].count()"
   ]
  },
  {
   "cell_type": "code",
   "execution_count": 31,
   "metadata": {
    "collapsed": true
   },
   "outputs": [],
   "source": [
    "from east.asts import base\n",
    "from east import utils"
   ]
  },
  {
   "cell_type": "code",
   "execution_count": 32,
   "metadata": {
    "collapsed": true
   },
   "outputs": [],
   "source": [
    "cl = re.compile(r'[^A-Za-z0-9 \\-\\n\\r.,;!?А-Яа-я]+')\n",
    "data.text = [re.sub(cl,' ',x.replace('\\n',' ')).lower() for x in data.text.values[::]]"
   ]
  },
  {
   "cell_type": "code",
   "execution_count": 58,
   "metadata": {
    "collapsed": true
   },
   "outputs": [],
   "source": [
    "data_test = data [-1000:]\n",
    "data_x = data[:-1000]\n",
    "ast=[]"
   ]
  },
  {
   "cell_type": "code",
   "execution_count": 41,
   "metadata": {},
   "outputs": [],
   "source": [
    "for el in data.Th_new.unique():\n",
    "    ast.append(base.AST.get_ast(data_x.loc[data_x.Th_new == el].text.tolist()))"
   ]
  },
  {
   "cell_type": "code",
   "execution_count": 51,
   "metadata": {},
   "outputs": [
    {
     "data": {
      "text/plain": [
       "55114209"
      ]
     },
     "execution_count": 51,
     "metadata": {},
     "output_type": "execute_result"
    }
   ],
   "source": [
    "data_x.loc[0].ticketid"
   ]
  },
  {
   "cell_type": "code",
   "execution_count": 75,
   "metadata": {},
   "outputs": [],
   "source": [
    "res = []\n",
    "for i in range(len(data_test)):\n",
    "    a = [data_test.iloc[i].ticketid, data_test.iloc[i].Th_new, data_test.iloc[i].text]\n",
    "    arr = []\n",
    "    for asti in ast:\n",
    "        arr.append(asti.score(data_test.iloc[i].text))\n",
    "    a += arr\n",
    "    res.append([a])"
   ]
  },
  {
   "cell_type": "code",
   "execution_count": 96,
   "metadata": {},
   "outputs": [],
   "source": [
    "res_m = []"
   ]
  },
  {
   "cell_type": "code",
   "execution_count": 97,
   "metadata": {},
   "outputs": [],
   "source": [
    "for i in range(1,101):\n",
    "    res_m.append(res[(i-1)*13:i*13])"
   ]
  },
  {
   "cell_type": "code",
   "execution_count": 100,
   "metadata": {
    "collapsed": true
   },
   "outputs": [],
   "source": [
    "res_matrix = pd.DataFrame(res_m)"
   ]
  },
  {
   "cell_type": "code",
   "execution_count": 102,
   "metadata": {
    "collapsed": true
   },
   "outputs": [],
   "source": [
    "res_matrix.columns = ['ticketid', 'Theme', 'text', 'Rel1', 'Rel2', 'Rel3', 'Rel4', 'Rel5', 'Rel6', 'Rel7', 'Rel8', 'Rel9', 'Rel10']"
   ]
  },
  {
   "cell_type": "code",
   "execution_count": 103,
   "metadata": {},
   "outputs": [
    {
     "data": {
      "text/html": [
       "<div>\n",
       "<style scoped>\n",
       "    .dataframe tbody tr th:only-of-type {\n",
       "        vertical-align: middle;\n",
       "    }\n",
       "\n",
       "    .dataframe tbody tr th {\n",
       "        vertical-align: top;\n",
       "    }\n",
       "\n",
       "    .dataframe thead th {\n",
       "        text-align: right;\n",
       "    }\n",
       "</style>\n",
       "<table border=\"1\" class=\"dataframe\">\n",
       "  <thead>\n",
       "    <tr style=\"text-align: right;\">\n",
       "      <th></th>\n",
       "      <th>ticketid</th>\n",
       "      <th>Theme</th>\n",
       "      <th>text</th>\n",
       "      <th>Rel1</th>\n",
       "      <th>Rel2</th>\n",
       "      <th>Rel3</th>\n",
       "      <th>Rel4</th>\n",
       "      <th>Rel5</th>\n",
       "      <th>Rel6</th>\n",
       "      <th>Rel7</th>\n",
       "      <th>Rel8</th>\n",
       "      <th>Rel9</th>\n",
       "      <th>Rel10</th>\n",
       "    </tr>\n",
       "  </thead>\n",
       "  <tbody>\n",
       "    <tr>\n",
       "      <th>0</th>\n",
       "      <td>55215790</td>\n",
       "      <td>Аннуляция заказа</td>\n",
       "      <td>были отменены следующие позиции - картина по н...</td>\n",
       "      <td>0.233742</td>\n",
       "      <td>0.224178</td>\n",
       "      <td>0.227091</td>\n",
       "      <td>0.227965</td>\n",
       "      <td>0.305114</td>\n",
       "      <td>0.213227</td>\n",
       "      <td>0.264806</td>\n",
       "      <td>0.246957</td>\n",
       "      <td>0.278878</td>\n",
       "      <td>0.257489</td>\n",
       "    </tr>\n",
       "    <tr>\n",
       "      <th>1</th>\n",
       "      <td>55215804</td>\n",
       "      <td>Аннуляция заказа</td>\n",
       "      <td>нет спасибо!!! только ещ  бонусами  всего добр...</td>\n",
       "      <td>0.250961</td>\n",
       "      <td>0.248162</td>\n",
       "      <td>0.261630</td>\n",
       "      <td>0.237878</td>\n",
       "      <td>0.259909</td>\n",
       "      <td>0.229131</td>\n",
       "      <td>0.230361</td>\n",
       "      <td>0.234742</td>\n",
       "      <td>0.247157</td>\n",
       "      <td>0.218321</td>\n",
       "    </tr>\n",
       "    <tr>\n",
       "      <th>2</th>\n",
       "      <td>55215834</td>\n",
       "      <td>Аннуляция заказа</td>\n",
       "      <td>часа. мы пришл м вам уведомление.. здравству...</td>\n",
       "      <td>0.207183</td>\n",
       "      <td>0.195226</td>\n",
       "      <td>0.216350</td>\n",
       "      <td>0.206465</td>\n",
       "      <td>0.253886</td>\n",
       "      <td>0.185727</td>\n",
       "      <td>0.212587</td>\n",
       "      <td>0.180453</td>\n",
       "      <td>0.215297</td>\n",
       "      <td>0.209676</td>\n",
       "    </tr>\n",
       "    <tr>\n",
       "      <th>3</th>\n",
       "      <td>55215860</td>\n",
       "      <td>Ошибочно / не начислены деньги (баллы)</td>\n",
       "      <td>если вы оформили возврат товаров из заказа, и ...</td>\n",
       "      <td>0.217058</td>\n",
       "      <td>0.205104</td>\n",
       "      <td>0.209807</td>\n",
       "      <td>0.223039</td>\n",
       "      <td>0.307674</td>\n",
       "      <td>0.195035</td>\n",
       "      <td>0.270013</td>\n",
       "      <td>0.260276</td>\n",
       "      <td>0.300128</td>\n",
       "      <td>0.272498</td>\n",
       "    </tr>\n",
       "    <tr>\n",
       "      <th>4</th>\n",
       "      <td>55215934</td>\n",
       "      <td>Аннуляция заказа</td>\n",
       "      <td>спасибо, но масло я отменил сам и уже давно. в...</td>\n",
       "      <td>0.196108</td>\n",
       "      <td>0.178920</td>\n",
       "      <td>0.188384</td>\n",
       "      <td>0.185249</td>\n",
       "      <td>0.224247</td>\n",
       "      <td>0.186453</td>\n",
       "      <td>0.185086</td>\n",
       "      <td>0.192379</td>\n",
       "      <td>0.196357</td>\n",
       "      <td>0.168425</td>\n",
       "    </tr>\n",
       "    <tr>\n",
       "      <th>5</th>\n",
       "      <td>55215961</td>\n",
       "      <td>Не могу оплатить заказ</td>\n",
       "      <td>он приш л один раз. первоначально я его ввела,...</td>\n",
       "      <td>0.217973</td>\n",
       "      <td>0.196012</td>\n",
       "      <td>0.232956</td>\n",
       "      <td>0.205234</td>\n",
       "      <td>0.239853</td>\n",
       "      <td>0.200635</td>\n",
       "      <td>0.194428</td>\n",
       "      <td>0.189773</td>\n",
       "      <td>0.203781</td>\n",
       "      <td>0.184262</td>\n",
       "    </tr>\n",
       "    <tr>\n",
       "      <th>6</th>\n",
       "      <td>55215962</td>\n",
       "      <td>Не сработала акция (скидка / промокод / баллы)...</td>\n",
       "      <td>понятно. александра, к сожалению, нет.. сейчас...</td>\n",
       "      <td>0.224484</td>\n",
       "      <td>0.202606</td>\n",
       "      <td>0.209169</td>\n",
       "      <td>0.226713</td>\n",
       "      <td>0.226001</td>\n",
       "      <td>0.189271</td>\n",
       "      <td>0.194806</td>\n",
       "      <td>0.191549</td>\n",
       "      <td>0.199398</td>\n",
       "      <td>0.198307</td>\n",
       "    </tr>\n",
       "    <tr>\n",
       "      <th>7</th>\n",
       "      <td>55215972</td>\n",
       "      <td>Аннуляция заказа</td>\n",
       "      <td>наверное. здравствуйте, юлия. ожидайте 6-10 ми...</td>\n",
       "      <td>0.245456</td>\n",
       "      <td>0.244956</td>\n",
       "      <td>0.238912</td>\n",
       "      <td>0.244109</td>\n",
       "      <td>0.276659</td>\n",
       "      <td>0.227204</td>\n",
       "      <td>0.239737</td>\n",
       "      <td>0.235038</td>\n",
       "      <td>0.248786</td>\n",
       "      <td>0.234924</td>\n",
       "    </tr>\n",
       "    <tr>\n",
       "      <th>8</th>\n",
       "      <td>55216022</td>\n",
       "      <td>Акция не заведена / не смогли найти в системе</td>\n",
       "      <td>вам спасибо за обращение. всего хорошего.. спа...</td>\n",
       "      <td>0.244784</td>\n",
       "      <td>0.211412</td>\n",
       "      <td>0.257241</td>\n",
       "      <td>0.245794</td>\n",
       "      <td>0.247389</td>\n",
       "      <td>0.217459</td>\n",
       "      <td>0.228594</td>\n",
       "      <td>0.232618</td>\n",
       "      <td>0.241218</td>\n",
       "      <td>0.209904</td>\n",
       "    </tr>\n",
       "    <tr>\n",
       "      <th>9</th>\n",
       "      <td>55216050</td>\n",
       "      <td>Не сработала акция (скидка / промокод / баллы)...</td>\n",
       "      <td>здравствуйте, есть кто-нибудь?. ожидайте неско...</td>\n",
       "      <td>0.219788</td>\n",
       "      <td>0.201567</td>\n",
       "      <td>0.212542</td>\n",
       "      <td>0.222314</td>\n",
       "      <td>0.232385</td>\n",
       "      <td>0.180889</td>\n",
       "      <td>0.182551</td>\n",
       "      <td>0.190590</td>\n",
       "      <td>0.204641</td>\n",
       "      <td>0.199829</td>\n",
       "    </tr>\n",
       "  </tbody>\n",
       "</table>\n",
       "</div>"
      ],
      "text/plain": [
       "   ticketid                                              Theme  \\\n",
       "0  55215790                                   Аннуляция заказа   \n",
       "1  55215804                                   Аннуляция заказа   \n",
       "2  55215834                                   Аннуляция заказа   \n",
       "3  55215860             Ошибочно / не начислены деньги (баллы)   \n",
       "4  55215934                                   Аннуляция заказа   \n",
       "5  55215961                             Не могу оплатить заказ   \n",
       "6  55215962  Не сработала акция (скидка / промокод / баллы)...   \n",
       "7  55215972                                   Аннуляция заказа   \n",
       "8  55216022      Акция не заведена / не смогли найти в системе   \n",
       "9  55216050  Не сработала акция (скидка / промокод / баллы)...   \n",
       "\n",
       "                                                text      Rel1      Rel2  \\\n",
       "0  были отменены следующие позиции - картина по н...  0.233742  0.224178   \n",
       "1  нет спасибо!!! только ещ  бонусами  всего добр...  0.250961  0.248162   \n",
       "2    часа. мы пришл м вам уведомление.. здравству...  0.207183  0.195226   \n",
       "3  если вы оформили возврат товаров из заказа, и ...  0.217058  0.205104   \n",
       "4  спасибо, но масло я отменил сам и уже давно. в...  0.196108  0.178920   \n",
       "5  он приш л один раз. первоначально я его ввела,...  0.217973  0.196012   \n",
       "6  понятно. александра, к сожалению, нет.. сейчас...  0.224484  0.202606   \n",
       "7  наверное. здравствуйте, юлия. ожидайте 6-10 ми...  0.245456  0.244956   \n",
       "8  вам спасибо за обращение. всего хорошего.. спа...  0.244784  0.211412   \n",
       "9  здравствуйте, есть кто-нибудь?. ожидайте неско...  0.219788  0.201567   \n",
       "\n",
       "       Rel3      Rel4      Rel5      Rel6      Rel7      Rel8      Rel9  \\\n",
       "0  0.227091  0.227965  0.305114  0.213227  0.264806  0.246957  0.278878   \n",
       "1  0.261630  0.237878  0.259909  0.229131  0.230361  0.234742  0.247157   \n",
       "2  0.216350  0.206465  0.253886  0.185727  0.212587  0.180453  0.215297   \n",
       "3  0.209807  0.223039  0.307674  0.195035  0.270013  0.260276  0.300128   \n",
       "4  0.188384  0.185249  0.224247  0.186453  0.185086  0.192379  0.196357   \n",
       "5  0.232956  0.205234  0.239853  0.200635  0.194428  0.189773  0.203781   \n",
       "6  0.209169  0.226713  0.226001  0.189271  0.194806  0.191549  0.199398   \n",
       "7  0.238912  0.244109  0.276659  0.227204  0.239737  0.235038  0.248786   \n",
       "8  0.257241  0.245794  0.247389  0.217459  0.228594  0.232618  0.241218   \n",
       "9  0.212542  0.222314  0.232385  0.180889  0.182551  0.190590  0.204641   \n",
       "\n",
       "      Rel10  \n",
       "0  0.257489  \n",
       "1  0.218321  \n",
       "2  0.209676  \n",
       "3  0.272498  \n",
       "4  0.168425  \n",
       "5  0.184262  \n",
       "6  0.198307  \n",
       "7  0.234924  \n",
       "8  0.209904  \n",
       "9  0.199829  "
      ]
     },
     "execution_count": 103,
     "metadata": {},
     "output_type": "execute_result"
    }
   ],
   "source": [
    "res_matrix.head(10)"
   ]
  },
  {
   "cell_type": "code",
   "execution_count": null,
   "metadata": {
    "collapsed": true
   },
   "outputs": [],
   "source": []
  }
 ],
 "metadata": {
  "kernelspec": {
   "display_name": "Python 3",
   "language": "python",
   "name": "python3"
  },
  "language_info": {
   "codemirror_mode": {
    "name": "ipython",
    "version": 3
   },
   "file_extension": ".py",
   "mimetype": "text/x-python",
   "name": "python",
   "nbconvert_exporter": "python",
   "pygments_lexer": "ipython3",
   "version": "3.6.6"
  }
 },
 "nbformat": 4,
 "nbformat_minor": 2
}
